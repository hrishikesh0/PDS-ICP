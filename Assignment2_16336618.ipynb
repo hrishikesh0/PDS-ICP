{
  "nbformat": 4,
  "nbformat_minor": 0,
  "metadata": {
    "colab": {
      "provenance": []
    },
    "kernelspec": {
      "name": "python3",
      "display_name": "Python 3"
    },
    "language_info": {
      "name": "python"
    }
  },
  "cells": [
    {
      "cell_type": "code",
      "execution_count": 1,
      "metadata": {
        "colab": {
          "base_uri": "https://localhost:8080/"
        },
        "id": "Z6nUazbpYAMH",
        "outputId": "81004142-af21-4e1b-e6b7-e92e1e54797e"
      },
      "outputs": [
        {
          "output_type": "stream",
          "name": "stdout",
          "text": [
            "      Unnamed: 0                              Name    Location  Year  \\\n",
            "0              1  Hyundai Creta 1.6 CRDi SX Option        Pune  2015   \n",
            "1              2                      Honda Jazz V     Chennai  2011   \n",
            "2              3                 Maruti Ertiga VDI     Chennai  2012   \n",
            "3              4   Audi A4 New 2.0 TDI Multitronic  Coimbatore  2013   \n",
            "4              6            Nissan Micra Diesel XV      Jaipur  2013   \n",
            "...          ...                               ...         ...   ...   \n",
            "5842        6014                  Maruti Swift VDI       Delhi  2014   \n",
            "5843        6015          Hyundai Xcent 1.1 CRDi S      Jaipur  2015   \n",
            "5844        6016             Mahindra Xylo D4 BSIV      Jaipur  2012   \n",
            "5845        6017                Maruti Wagon R VXI     Kolkata  2013   \n",
            "5846        6018             Chevrolet Beat Diesel   Hyderabad  2011   \n",
            "\n",
            "      Kilometers_Driven Fuel_Type Transmission Owner_Type     Mileage  \\\n",
            "0                 41000    Diesel       Manual      First  19.67 kmpl   \n",
            "1                 46000    Petrol       Manual      First    13 km/kg   \n",
            "2                 87000    Diesel       Manual      First  20.77 kmpl   \n",
            "3                 40670    Diesel    Automatic     Second   15.2 kmpl   \n",
            "4                 86999    Diesel       Manual      First  23.08 kmpl   \n",
            "...                 ...       ...          ...        ...         ...   \n",
            "5842              27365    Diesel       Manual      First   28.4 kmpl   \n",
            "5843             100000    Diesel       Manual      First   24.4 kmpl   \n",
            "5844              55000    Diesel       Manual     Second   14.0 kmpl   \n",
            "5845              46000    Petrol       Manual      First   18.9 kmpl   \n",
            "5846              47000    Diesel       Manual      First  25.44 kmpl   \n",
            "\n",
            "       Engine      Power  Seats  New_Price  Price  \n",
            "0     1582 CC  126.2 bhp    5.0        NaN  12.50  \n",
            "1     1199 CC   88.7 bhp    5.0  8.61 Lakh   4.50  \n",
            "2     1248 CC  88.76 bhp    7.0        NaN   6.00  \n",
            "3     1968 CC  140.8 bhp    5.0        NaN  17.74  \n",
            "4     1461 CC   63.1 bhp    5.0        NaN   3.50  \n",
            "...       ...        ...    ...        ...    ...  \n",
            "5842  1248 CC     74 bhp    5.0  7.88 Lakh   4.75  \n",
            "5843  1120 CC     71 bhp    5.0        NaN   4.00  \n",
            "5844  2498 CC    112 bhp    8.0        NaN   2.90  \n",
            "5845   998 CC   67.1 bhp    5.0        NaN   2.65  \n",
            "5846   936 CC   57.6 bhp    5.0        NaN   2.50  \n",
            "\n",
            "[5847 rows x 14 columns]\n"
          ]
        }
      ],
      "source": [
        "import pandas as pd\n",
        "import numpy as np\n",
        "\n",
        "# Load the CSV file into a DataFrame\n",
        "df = pd.read_csv('/content/sample_data/train.csv')\n",
        "\n",
        "# Display the DataFrame\n",
        "print(df)\n"
      ]
    },
    {
      "cell_type": "code",
      "source": [
        "rows, columns = df.shape\n",
        "\n",
        "print(f\"Number of rows: {rows}\")\n",
        "print(f\"Number of columns: {columns}\")"
      ],
      "metadata": {
        "colab": {
          "base_uri": "https://localhost:8080/"
        },
        "id": "22r_SjiBYrqi",
        "outputId": "21e3a22c-f82e-4ef5-8870-eeec1fb4db4f"
      },
      "execution_count": 2,
      "outputs": [
        {
          "output_type": "stream",
          "name": "stdout",
          "text": [
            "Number of rows: 5847\n",
            "Number of columns: 14\n"
          ]
        }
      ]
    },
    {
      "cell_type": "code",
      "source": [
        "missing_values = df.isnull().sum()\n",
        "print(\"Missing values per column:\\n\", missing_values)"
      ],
      "metadata": {
        "colab": {
          "base_uri": "https://localhost:8080/"
        },
        "id": "Mdkx3ZfCSHU8",
        "outputId": "7460e495-479d-4467-c3f6-ac50bb5a00dd"
      },
      "execution_count": 3,
      "outputs": [
        {
          "output_type": "stream",
          "name": "stdout",
          "text": [
            "Missing values per column:\n",
            " Unnamed: 0              0\n",
            "Name                    0\n",
            "Location                0\n",
            "Year                    0\n",
            "Kilometers_Driven       0\n",
            "Fuel_Type               0\n",
            "Transmission            0\n",
            "Owner_Type              0\n",
            "Mileage                 2\n",
            "Engine                 36\n",
            "Power                  36\n",
            "Seats                  38\n",
            "New_Price            5032\n",
            "Price                   0\n",
            "dtype: int64\n"
          ]
        }
      ]
    },
    {
      "cell_type": "markdown",
      "source": [
        "In this code, I converted string values in the Power column to numeric values. By setting errors='coerce', any non-convertible values are transformed into NaN.\n",
        "\n",
        "To fill in missing values, I used the median instead of the mean or mode because the Car power ratings can vary a lot, and using the mean could be misleading because each car has different value. The median is a better choice here because it’s less affected by these extremes and gives a more accurate central value. While the mode shows the most common value."
      ],
      "metadata": {
        "id": "ZHCXd2BFs6TW"
      }
    },
    {
      "cell_type": "code",
      "source": [
        "# Clean and convert 'Power' column\n",
        "df['Power'] = df['Power'].astype(str).str.replace(' bhp', '')  # Convert to string and remove ' bhp'\n",
        "df['Power'] = pd.to_numeric(df['Power'], errors='coerce')       # Convert the values to numeric and replace the values that cannot be converted to a number to NaN\n",
        "df['Power'].fillna(df['Power'].median())          # Impute missing values with the median\n"
      ],
      "metadata": {
        "colab": {
          "base_uri": "https://localhost:8080/",
          "height": 458
        },
        "id": "gjlD4e48V-xP",
        "outputId": "cd66b59a-cf5b-4988-8c4f-77090b25025f"
      },
      "execution_count": 12,
      "outputs": [
        {
          "output_type": "execute_result",
          "data": {
            "text/plain": [
              "0       126.20\n",
              "1        88.70\n",
              "2        88.76\n",
              "3       140.80\n",
              "4        63.10\n",
              "         ...  \n",
              "5842     74.00\n",
              "5843     71.00\n",
              "5844    112.00\n",
              "5845     67.10\n",
              "5846     57.60\n",
              "Name: Power, Length: 5847, dtype: float64"
            ],
            "text/html": [
              "<div>\n",
              "<style scoped>\n",
              "    .dataframe tbody tr th:only-of-type {\n",
              "        vertical-align: middle;\n",
              "    }\n",
              "\n",
              "    .dataframe tbody tr th {\n",
              "        vertical-align: top;\n",
              "    }\n",
              "\n",
              "    .dataframe thead th {\n",
              "        text-align: right;\n",
              "    }\n",
              "</style>\n",
              "<table border=\"1\" class=\"dataframe\">\n",
              "  <thead>\n",
              "    <tr style=\"text-align: right;\">\n",
              "      <th></th>\n",
              "      <th>Power</th>\n",
              "    </tr>\n",
              "  </thead>\n",
              "  <tbody>\n",
              "    <tr>\n",
              "      <th>0</th>\n",
              "      <td>126.20</td>\n",
              "    </tr>\n",
              "    <tr>\n",
              "      <th>1</th>\n",
              "      <td>88.70</td>\n",
              "    </tr>\n",
              "    <tr>\n",
              "      <th>2</th>\n",
              "      <td>88.76</td>\n",
              "    </tr>\n",
              "    <tr>\n",
              "      <th>3</th>\n",
              "      <td>140.80</td>\n",
              "    </tr>\n",
              "    <tr>\n",
              "      <th>4</th>\n",
              "      <td>63.10</td>\n",
              "    </tr>\n",
              "    <tr>\n",
              "      <th>...</th>\n",
              "      <td>...</td>\n",
              "    </tr>\n",
              "    <tr>\n",
              "      <th>5842</th>\n",
              "      <td>74.00</td>\n",
              "    </tr>\n",
              "    <tr>\n",
              "      <th>5843</th>\n",
              "      <td>71.00</td>\n",
              "    </tr>\n",
              "    <tr>\n",
              "      <th>5844</th>\n",
              "      <td>112.00</td>\n",
              "    </tr>\n",
              "    <tr>\n",
              "      <th>5845</th>\n",
              "      <td>67.10</td>\n",
              "    </tr>\n",
              "    <tr>\n",
              "      <th>5846</th>\n",
              "      <td>57.60</td>\n",
              "    </tr>\n",
              "  </tbody>\n",
              "</table>\n",
              "<p>5847 rows × 1 columns</p>\n",
              "</div><br><label><b>dtype:</b> float64</label>"
            ]
          },
          "metadata": {},
          "execution_count": 12
        }
      ]
    },
    {
      "cell_type": "markdown",
      "source": [],
      "metadata": {
        "id": "G95wJcIws4M6"
      }
    },
    {
      "cell_type": "markdown",
      "source": [
        "Since the Mileage column is similar to the Power column , I used the median to impute missing values"
      ],
      "metadata": {
        "id": "vLc6CZMyvOup"
      }
    },
    {
      "cell_type": "code",
      "source": [
        "# Clean and convert 'Mileage' column\n",
        "df['Mileage'] = df['Mileage'].astype(str).str.replace(' kmpl', '').str.replace(' km/kg', '')  # Convert to string first\n",
        "df['Mileage'] = pd.to_numeric(df['Mileage'], errors='coerce')    # Convert to numeric value  with errors converted to NaN\n",
        "df['Mileage'].fillna(df['Mileage'].median())       # Impute missing values with the median"
      ],
      "metadata": {
        "colab": {
          "base_uri": "https://localhost:8080/",
          "height": 458
        },
        "id": "mz7eRJyXsJ4W",
        "outputId": "e8caada9-483b-4ade-b071-07c8efbfc4b8"
      },
      "execution_count": 13,
      "outputs": [
        {
          "output_type": "execute_result",
          "data": {
            "text/plain": [
              "0       19.67\n",
              "1       13.00\n",
              "2       20.77\n",
              "3       15.20\n",
              "4       23.08\n",
              "        ...  \n",
              "5842    28.40\n",
              "5843    24.40\n",
              "5844    14.00\n",
              "5845    18.90\n",
              "5846    25.44\n",
              "Name: Mileage, Length: 5847, dtype: float64"
            ],
            "text/html": [
              "<div>\n",
              "<style scoped>\n",
              "    .dataframe tbody tr th:only-of-type {\n",
              "        vertical-align: middle;\n",
              "    }\n",
              "\n",
              "    .dataframe tbody tr th {\n",
              "        vertical-align: top;\n",
              "    }\n",
              "\n",
              "    .dataframe thead th {\n",
              "        text-align: right;\n",
              "    }\n",
              "</style>\n",
              "<table border=\"1\" class=\"dataframe\">\n",
              "  <thead>\n",
              "    <tr style=\"text-align: right;\">\n",
              "      <th></th>\n",
              "      <th>Mileage</th>\n",
              "    </tr>\n",
              "  </thead>\n",
              "  <tbody>\n",
              "    <tr>\n",
              "      <th>0</th>\n",
              "      <td>19.67</td>\n",
              "    </tr>\n",
              "    <tr>\n",
              "      <th>1</th>\n",
              "      <td>13.00</td>\n",
              "    </tr>\n",
              "    <tr>\n",
              "      <th>2</th>\n",
              "      <td>20.77</td>\n",
              "    </tr>\n",
              "    <tr>\n",
              "      <th>3</th>\n",
              "      <td>15.20</td>\n",
              "    </tr>\n",
              "    <tr>\n",
              "      <th>4</th>\n",
              "      <td>23.08</td>\n",
              "    </tr>\n",
              "    <tr>\n",
              "      <th>...</th>\n",
              "      <td>...</td>\n",
              "    </tr>\n",
              "    <tr>\n",
              "      <th>5842</th>\n",
              "      <td>28.40</td>\n",
              "    </tr>\n",
              "    <tr>\n",
              "      <th>5843</th>\n",
              "      <td>24.40</td>\n",
              "    </tr>\n",
              "    <tr>\n",
              "      <th>5844</th>\n",
              "      <td>14.00</td>\n",
              "    </tr>\n",
              "    <tr>\n",
              "      <th>5845</th>\n",
              "      <td>18.90</td>\n",
              "    </tr>\n",
              "    <tr>\n",
              "      <th>5846</th>\n",
              "      <td>25.44</td>\n",
              "    </tr>\n",
              "  </tbody>\n",
              "</table>\n",
              "<p>5847 rows × 1 columns</p>\n",
              "</div><br><label><b>dtype:</b> float64</label>"
            ]
          },
          "metadata": {},
          "execution_count": 13
        }
      ]
    },
    {
      "cell_type": "markdown",
      "source": [],
      "metadata": {
        "id": "EcZty8kyvf6F"
      }
    },
    {
      "cell_type": "markdown",
      "source": [
        "Since the engine column is similar to the Power column , I used the median to impute missing values"
      ],
      "metadata": {
        "id": "qOp4eqlyvjDV"
      }
    },
    {
      "cell_type": "code",
      "source": [
        "# Clean and convert 'Engine' column\n",
        "df['Engine'] = df['Engine'].astype(str).str.replace(' CC', '') # Convert to string first\n",
        "df['Engine'] = pd.to_numeric(df['Engine'], errors='coerce') # Convert to numeric value  with errors converted to NaN\n",
        "df['Engine'].fillna(df['Engine'].median()) # Impute missing values with the median"
      ],
      "metadata": {
        "colab": {
          "base_uri": "https://localhost:8080/",
          "height": 458
        },
        "id": "wwr0OG5vZe4Y",
        "outputId": "09a88e2a-b40e-48c0-95f1-2ade5c24164d"
      },
      "execution_count": 6,
      "outputs": [
        {
          "output_type": "execute_result",
          "data": {
            "text/plain": [
              "0       1582.0\n",
              "1       1199.0\n",
              "2       1248.0\n",
              "3       1968.0\n",
              "4       1461.0\n",
              "         ...  \n",
              "5842    1248.0\n",
              "5843    1120.0\n",
              "5844    2498.0\n",
              "5845     998.0\n",
              "5846     936.0\n",
              "Name: Engine, Length: 5847, dtype: float64"
            ],
            "text/html": [
              "<div>\n",
              "<style scoped>\n",
              "    .dataframe tbody tr th:only-of-type {\n",
              "        vertical-align: middle;\n",
              "    }\n",
              "\n",
              "    .dataframe tbody tr th {\n",
              "        vertical-align: top;\n",
              "    }\n",
              "\n",
              "    .dataframe thead th {\n",
              "        text-align: right;\n",
              "    }\n",
              "</style>\n",
              "<table border=\"1\" class=\"dataframe\">\n",
              "  <thead>\n",
              "    <tr style=\"text-align: right;\">\n",
              "      <th></th>\n",
              "      <th>Engine</th>\n",
              "    </tr>\n",
              "  </thead>\n",
              "  <tbody>\n",
              "    <tr>\n",
              "      <th>0</th>\n",
              "      <td>1582.0</td>\n",
              "    </tr>\n",
              "    <tr>\n",
              "      <th>1</th>\n",
              "      <td>1199.0</td>\n",
              "    </tr>\n",
              "    <tr>\n",
              "      <th>2</th>\n",
              "      <td>1248.0</td>\n",
              "    </tr>\n",
              "    <tr>\n",
              "      <th>3</th>\n",
              "      <td>1968.0</td>\n",
              "    </tr>\n",
              "    <tr>\n",
              "      <th>4</th>\n",
              "      <td>1461.0</td>\n",
              "    </tr>\n",
              "    <tr>\n",
              "      <th>...</th>\n",
              "      <td>...</td>\n",
              "    </tr>\n",
              "    <tr>\n",
              "      <th>5842</th>\n",
              "      <td>1248.0</td>\n",
              "    </tr>\n",
              "    <tr>\n",
              "      <th>5843</th>\n",
              "      <td>1120.0</td>\n",
              "    </tr>\n",
              "    <tr>\n",
              "      <th>5844</th>\n",
              "      <td>2498.0</td>\n",
              "    </tr>\n",
              "    <tr>\n",
              "      <th>5845</th>\n",
              "      <td>998.0</td>\n",
              "    </tr>\n",
              "    <tr>\n",
              "      <th>5846</th>\n",
              "      <td>936.0</td>\n",
              "    </tr>\n",
              "  </tbody>\n",
              "</table>\n",
              "<p>5847 rows × 1 columns</p>\n",
              "</div><br><label><b>dtype:</b> float64</label>"
            ]
          },
          "metadata": {},
          "execution_count": 6
        }
      ]
    },
    {
      "cell_type": "markdown",
      "source": [
        "I used the mode to impute missing values in the Seats column because seating configurations are typically standard across cars, such as five-seaters or six-seaters."
      ],
      "metadata": {
        "id": "HvdOJimZv-GI"
      }
    },
    {
      "cell_type": "code",
      "source": [
        "# Fill missing values in 'Seats' with mode\n",
        "df['Seats'].fillna(df['Seats'].mode()[0])\n"
      ],
      "metadata": {
        "colab": {
          "base_uri": "https://localhost:8080/",
          "height": 458
        },
        "id": "nZAW21pcapls",
        "outputId": "7274f5c6-26fb-417f-de8c-3262930435c3"
      },
      "execution_count": 7,
      "outputs": [
        {
          "output_type": "execute_result",
          "data": {
            "text/plain": [
              "0       5.0\n",
              "1       5.0\n",
              "2       7.0\n",
              "3       5.0\n",
              "4       5.0\n",
              "       ... \n",
              "5842    5.0\n",
              "5843    5.0\n",
              "5844    8.0\n",
              "5845    5.0\n",
              "5846    5.0\n",
              "Name: Seats, Length: 5847, dtype: float64"
            ],
            "text/html": [
              "<div>\n",
              "<style scoped>\n",
              "    .dataframe tbody tr th:only-of-type {\n",
              "        vertical-align: middle;\n",
              "    }\n",
              "\n",
              "    .dataframe tbody tr th {\n",
              "        vertical-align: top;\n",
              "    }\n",
              "\n",
              "    .dataframe thead th {\n",
              "        text-align: right;\n",
              "    }\n",
              "</style>\n",
              "<table border=\"1\" class=\"dataframe\">\n",
              "  <thead>\n",
              "    <tr style=\"text-align: right;\">\n",
              "      <th></th>\n",
              "      <th>Seats</th>\n",
              "    </tr>\n",
              "  </thead>\n",
              "  <tbody>\n",
              "    <tr>\n",
              "      <th>0</th>\n",
              "      <td>5.0</td>\n",
              "    </tr>\n",
              "    <tr>\n",
              "      <th>1</th>\n",
              "      <td>5.0</td>\n",
              "    </tr>\n",
              "    <tr>\n",
              "      <th>2</th>\n",
              "      <td>7.0</td>\n",
              "    </tr>\n",
              "    <tr>\n",
              "      <th>3</th>\n",
              "      <td>5.0</td>\n",
              "    </tr>\n",
              "    <tr>\n",
              "      <th>4</th>\n",
              "      <td>5.0</td>\n",
              "    </tr>\n",
              "    <tr>\n",
              "      <th>...</th>\n",
              "      <td>...</td>\n",
              "    </tr>\n",
              "    <tr>\n",
              "      <th>5842</th>\n",
              "      <td>5.0</td>\n",
              "    </tr>\n",
              "    <tr>\n",
              "      <th>5843</th>\n",
              "      <td>5.0</td>\n",
              "    </tr>\n",
              "    <tr>\n",
              "      <th>5844</th>\n",
              "      <td>8.0</td>\n",
              "    </tr>\n",
              "    <tr>\n",
              "      <th>5845</th>\n",
              "      <td>5.0</td>\n",
              "    </tr>\n",
              "    <tr>\n",
              "      <th>5846</th>\n",
              "      <td>5.0</td>\n",
              "    </tr>\n",
              "  </tbody>\n",
              "</table>\n",
              "<p>5847 rows × 1 columns</p>\n",
              "</div><br><label><b>dtype:</b> float64</label>"
            ]
          },
          "metadata": {},
          "execution_count": 7
        }
      ]
    },
    {
      "cell_type": "code",
      "source": [
        "categorical_cols = ['Fuel_Type', 'Transmission', 'Owner_Type', 'Location']\n",
        "\n",
        "data = pd.get_dummies(df, columns=categorical_cols, drop_first=True) #convert the values in to dummies and drop first column\n",
        "\n",
        "print(data.head())"
      ],
      "metadata": {
        "colab": {
          "base_uri": "https://localhost:8080/"
        },
        "id": "-lVemxIQyYbT",
        "outputId": "b2001b3b-39f6-47c5-e5d9-a907ce9fd1a4"
      },
      "execution_count": 8,
      "outputs": [
        {
          "output_type": "stream",
          "name": "stdout",
          "text": [
            "   Unnamed: 0                              Name  Year  Kilometers_Driven  \\\n",
            "0           1  Hyundai Creta 1.6 CRDi SX Option  2015              41000   \n",
            "1           2                      Honda Jazz V  2011              46000   \n",
            "2           3                 Maruti Ertiga VDI  2012              87000   \n",
            "3           4   Audi A4 New 2.0 TDI Multitronic  2013              40670   \n",
            "4           6            Nissan Micra Diesel XV  2013              86999   \n",
            "\n",
            "   Mileage  Engine   Power  Seats  New_Price  Price  ...  Location_Bangalore  \\\n",
            "0    19.67  1582.0  126.20    5.0        NaN  12.50  ...               False   \n",
            "1    13.00  1199.0   88.70    5.0  8.61 Lakh   4.50  ...               False   \n",
            "2    20.77  1248.0   88.76    7.0        NaN   6.00  ...               False   \n",
            "3    15.20  1968.0  140.80    5.0        NaN  17.74  ...               False   \n",
            "4    23.08  1461.0   63.10    5.0        NaN   3.50  ...               False   \n",
            "\n",
            "   Location_Chennai  Location_Coimbatore  Location_Delhi  Location_Hyderabad  \\\n",
            "0             False                False           False               False   \n",
            "1              True                False           False               False   \n",
            "2              True                False           False               False   \n",
            "3             False                 True           False               False   \n",
            "4             False                False           False               False   \n",
            "\n",
            "   Location_Jaipur  Location_Kochi  Location_Kolkata  Location_Mumbai  \\\n",
            "0            False           False             False            False   \n",
            "1            False           False             False            False   \n",
            "2            False           False             False            False   \n",
            "3            False           False             False            False   \n",
            "4             True           False             False            False   \n",
            "\n",
            "   Location_Pune  \n",
            "0           True  \n",
            "1          False  \n",
            "2          False  \n",
            "3          False  \n",
            "4          False  \n",
            "\n",
            "[5 rows x 26 columns]\n"
          ]
        }
      ]
    },
    {
      "cell_type": "code",
      "source": [
        "# Calculate the Mileage to Engine Size Ratio for  better fuel-efficient engines.\n",
        "data['Mileage_to_Engine'] = data['Mileage'] / data['Engine']\n",
        "\n",
        "# Display the new feature\n",
        "print(data[['Name', 'Mileage', 'Engine', 'Mileage_to_Engine']].head())"
      ],
      "metadata": {
        "colab": {
          "base_uri": "https://localhost:8080/"
        },
        "id": "SazvUAPV1d4T",
        "outputId": "d3479e4c-f013-4ec0-e5fe-f9bbaad70067"
      },
      "execution_count": 14,
      "outputs": [
        {
          "output_type": "stream",
          "name": "stdout",
          "text": [
            "                               Name  Mileage  Engine  Mileage_to_Engine\n",
            "0  Hyundai Creta 1.6 CRDi SX Option    19.67  1582.0           0.012434\n",
            "1                      Honda Jazz V    13.00  1199.0           0.010842\n",
            "2                 Maruti Ertiga VDI    20.77  1248.0           0.016643\n",
            "3   Audi A4 New 2.0 TDI Multitronic    15.20  1968.0           0.007724\n",
            "4            Nissan Micra Diesel XV    23.08  1461.0           0.015797\n"
          ]
        }
      ]
    },
    {
      "cell_type": "code",
      "source": [
        "\n",
        "selected_data = data[['Name', 'Year', 'Price']]\n",
        "\n",
        "# Filter rows where mileage above 15\n",
        "filtered_data = data[data['Mileage'] > 15]\n",
        "\n",
        "# Rename columns\n",
        "renamed_data = data.rename(columns={'fuel_type': 'fuel_transmission', 'Engine': 'Engine_capacity'})\n",
        "\n",
        "# Using mutate operation to create a new column\n",
        "df['Mileage_Per_Power'] = df['Mileage'] / df['Power']\n",
        "\n",
        "# Sort by Milage\n",
        "arranged_data = data.sort_values(by='Mileage')\n",
        "\n",
        "# Summarize data: calculate average and max price by location\n",
        "summary_data = data.groupby('Price').agg(\n",
        "    avg_price=('Price', 'mean'),\n",
        "    max_price=('Price', 'max')\n",
        ").reset_index()\n",
        "\n"
      ],
      "metadata": {
        "id": "BtBE44-l2EM-"
      },
      "execution_count": 25,
      "outputs": []
    }
  ]
}